{
 "cells": [
  {
   "cell_type": "markdown",
   "id": "727213bf",
   "metadata": {},
   "source": [
    "# Peter results\n",
    "Please note that this code is intended to be run with python 3.13"
   ]
  },
  {
   "cell_type": "code",
   "execution_count": null,
   "id": "188d8c33",
   "metadata": {},
   "outputs": [],
   "source": [
    "import pymongo as pm\n",
    "import seaborn as sns\n",
    "import pandas as pd\n",
    "import matplotlib.pyplot as plt\n",
    "import re"
   ]
  },
  {
   "cell_type": "markdown",
   "id": "4bc31387",
   "metadata": {},
   "source": [
    "## Connect to db"
   ]
  },
  {
   "cell_type": "code",
   "execution_count": null,
   "id": "eed36df3",
   "metadata": {},
   "outputs": [],
   "source": [
    "client = pm.MongoClient()   #We are using local host\n",
    "db = client[\"experiment\"]"
   ]
  },
  {
   "cell_type": "markdown",
   "id": "f3557bdb",
   "metadata": {},
   "source": [
    "##  Analysis"
   ]
  },
  {
   "cell_type": "markdown",
   "id": "8ef77e55",
   "metadata": {},
   "source": [
    "### Fetch data"
   ]
  },
  {
   "cell_type": "code",
   "execution_count": null,
   "id": "f110610e",
   "metadata": {},
   "outputs": [],
   "source": [
    "full_name = []\n",
    "single_letter = []\n",
    "abbreviation = []\n",
    "semantic = []\n",
    "syntatic = []\n",
    "abbreviation_regex = \"abbrev.html$\"\n",
    "full_name_regex = \"normal.html$\"\n",
    "single_letter_regex = \"single.html$\"\n",
    "semantic_regex = \"..\\.semantic..\"\n",
    "syntatic_regex = \"..\\.syntactic..\"\n",
    "\n",
    "\n",
    "sessions = db[\"sessions\"]\n",
    "for session in sessions.find({\"done\": True}):\n",
    "    for trial in session[\"trials\"]:\n",
    "        # print(trial)\n",
    "        # print((trial[\"file\"]))\n",
    "        if re.search(pattern=full_name_regex, string=trial[\"file\"]):\n",
    "            full_name.append(trial)\n",
    "        elif re.search(pattern=abbreviation_regex, string=trial[\"file\"]):\n",
    "            abbreviation.append(trial)\n",
    "        elif re.search(pattern=single_letter_regex, string=trial[\"file\"]):\n",
    "            single_letter.append(trial)\n",
    "        if re.search(pattern=semantic_regex, string=trial[\"file\"]):\n",
    "            semantic.append(trial)\n",
    "        elif re.search(pattern=syntatic_regex, string=trial[\"file\"]):\n",
    "            syntatic.append(trial)"
   ]
  },
  {
   "cell_type": "markdown",
   "id": "e1be3e7b",
   "metadata": {},
   "source": [
    "### Update trials with indicators for type\n",
    "(Not used, well the extra info is not currently in use)"
   ]
  },
  {
   "cell_type": "code",
   "execution_count": null,
   "id": "947137f5",
   "metadata": {},
   "outputs": [],
   "source": [
    "def update_trials_with_indecators(collection_name) -> None:\n",
    "    abbreviation_regex = \"abbrev.html$\"\n",
    "    full_name_regex = \"normal.html$\"\n",
    "    single_letter_regex = \"single.html$\"\n",
    "    semantic_regex = \"..\\.semantic..\"\n",
    "    syntatic_regex = \"..\\.syntactic..\"\n",
    "\n",
    "    collection = db[collection_name]\n",
    "    for session in collection.find({\"done\": True}):\n",
    "        for trial in session[\"trials\"]:\n",
    "            variable_type = \"\"\n",
    "            challenge_type = \"\"\n",
    "            if re.search(pattern=full_name_regex, string=trial[\"file\"]):\n",
    "                variable_type = \"Full variable name\"\n",
    "            elif re.search(pattern=abbreviation_regex, string=trial[\"file\"]):\n",
    "                variable_type = \"Abbreviated variable name\"\n",
    "            elif re.search(pattern=single_letter_regex, string=trial[\"file\"]):\n",
    "                variable_type = \"Single letter variable name\"\n",
    "            \n",
    "            if re.search(pattern=semantic_regex, string=trial[\"file\"]):\n",
    "                challenge_type = \"Semantic error\"\n",
    "            elif re.search(pattern=syntatic_regex, string=trial[\"file\"]):\n",
    "                challenge_type = \"Syntatic error\"\n",
    "\n",
    "            filter = {\"USER_SESSION_ID\": session[\"USER_SESSION_ID\"], \"trials.created\": trial[\"created\"]}\n",
    "            operation = {\"$set\":  {'trials.$.variable_type': str(variable_type)}}\n",
    "            ops = {\"$set\": {'trials.$.challenge_type': str(challenge_type)}}\n",
    "            db.sessions.update_one(filter, operation)\n",
    "            db.sessions.update_one(filter, ops)"
   ]
  },
  {
   "cell_type": "code",
   "execution_count": null,
   "id": "3ee5d72c",
   "metadata": {},
   "outputs": [],
   "source": [
    "update_trials_with_indecators(\"sessions\")"
   ]
  },
  {
   "cell_type": "markdown",
   "id": "702c7ebb",
   "metadata": {},
   "source": [
    "### Begin analysis"
   ]
  },
  {
   "cell_type": "code",
   "execution_count": null,
   "id": "04930210",
   "metadata": {},
   "outputs": [],
   "source": [
    "def success_rate(bucket: list) -> [list, list]:\n",
    "    success = 0\n",
    "    fail = 0\n",
    "    for drop in bucket:\n",
    "        if drop[\"state\"] == \"success\":\n",
    "            success += 1\n",
    "        elif drop[\"state\"] == \"failure\":\n",
    "            fail += 1\n",
    "    return [[success, fail], [\"success\", \"failure\"]]"
   ]
  },
  {
   "cell_type": "code",
   "execution_count": null,
   "id": "6c3bab58",
   "metadata": {},
   "outputs": [],
   "source": [
    "full_name_DF = pd.DataFrame(full_name)\n",
    "abbreviation_DF = pd.DataFrame(abbreviation)\n",
    "single_letter_DF = pd.DataFrame(single_letter)\n",
    "\n",
    "all_DF = pd.DataFrame((full_name+abbreviation+single_letter))"
   ]
  },
  {
   "cell_type": "code",
   "execution_count": null,
   "id": "5161ea51",
   "metadata": {},
   "outputs": [],
   "source": [
    "palette_color = sns.color_palette('bright')\n",
    "figure, axes = plt.subplots(1, 3)\n",
    "\n",
    "# Creating chart for full names\n",
    "data, keys = success_rate(full_name)\n",
    "axes[0].pie(data, autopct='%.0f%%')\n",
    "axes[0].set_title(\"Full names\")\n",
    "\n",
    "# Creating chart for abbreviations\n",
    "data, keys = success_rate(abbreviation)\n",
    "axes[1].pie(data, autopct='%.0f%%')\n",
    "axes[1].set_title(\"Abbreviated names\")\n",
    "\n",
    "# Creating chart for single letter names\n",
    "data, keys = success_rate(single_letter)\n",
    "axes[2].pie(data, autopct='%.0f%%')\n",
    "axes[2].set_title(\"Single letter names\")\n",
    "\n",
    "# Setup figure specific information\n",
    "figure.tight_layout()\n",
    "figure.legend(labels=keys)\n",
    "figure.suptitle(\"Comparison between different variable names\")\n",
    "plt.show()\n",
    "\n",
    "figure.savefig(\"./figures/Variable-names.png\", bbox_inches='tight')"
   ]
  },
  {
   "cell_type": "code",
   "execution_count": null,
   "id": "ad791825",
   "metadata": {},
   "outputs": [],
   "source": [
    "palette_color = sns.color_palette('bright')\n",
    "figure, axes = plt.subplots(1, 2)\n",
    "\n",
    "# Creating chart for full names\n",
    "data, keys = success_rate(semantic)\n",
    "# axes[0].pie(full_name_DF[\"state\"])\n",
    "axes[0].pie(data, autopct='%.0f%%')\n",
    "axes[0].set_title(\"Semantic problem\")\n",
    "\n",
    "# Creating chart for abbreviations\n",
    "data, keys = success_rate(syntatic)\n",
    "axes[1].pie(data, autopct='%.0f%%')\n",
    "axes[1].set_title(\"Syntatic problem\")\n",
    "\n",
    "# Setup figure specific information\n",
    "figure.tight_layout()\n",
    "figure.legend(labels=keys)\n",
    "figure.suptitle(\"Comparison between different variable names\")\n",
    "plt.show()\n",
    "\n",
    "figure.savefig(\"./figures/Problem-type.png\", bbox_inches='tight')"
   ]
  }
 ],
 "metadata": {
  "kernelspec": {
   "display_name": ".venv",
   "language": "python",
   "name": "python3"
  },
  "language_info": {
   "codemirror_mode": {
    "name": "ipython",
    "version": 3
   },
   "file_extension": ".py",
   "mimetype": "text/x-python",
   "name": "python",
   "nbconvert_exporter": "python",
   "pygments_lexer": "ipython3",
   "version": "3.13.2"
  }
 },
 "nbformat": 4,
 "nbformat_minor": 5
}
