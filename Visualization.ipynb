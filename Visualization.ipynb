{
 "cells": [
  {
   "cell_type": "markdown",
   "id": "727213bf",
   "metadata": {},
   "source": [
    "# Peter results"
   ]
  },
  {
   "cell_type": "code",
   "execution_count": null,
   "id": "188d8c33",
   "metadata": {},
   "outputs": [],
   "source": [
    "import pymongo as pm\n",
    "import seaborn as sns\n",
    "import pandas as pd\n",
    "import matplotlib.pyplot as plt\n",
    "import re"
   ]
  },
  {
   "cell_type": "markdown",
   "id": "4bc31387",
   "metadata": {},
   "source": [
    "## Connect to db"
   ]
  },
  {
   "cell_type": "code",
   "execution_count": null,
   "id": "eed36df3",
   "metadata": {},
   "outputs": [],
   "source": [
    "client = pm.MongoClient()   #We are using local host\n",
    "db = client[\"experiment\"]"
   ]
  },
  {
   "cell_type": "markdown",
   "id": "f3557bdb",
   "metadata": {},
   "source": [
    "##  Analysis"
   ]
  },
  {
   "cell_type": "code",
   "execution_count": null,
   "id": "8df2a50a",
   "metadata": {},
   "outputs": [],
   "source": [
    "a = db[\"sessions\"].count_documents({})\n",
    "a"
   ]
  },
  {
   "cell_type": "markdown",
   "id": "8ef77e55",
   "metadata": {},
   "source": [
    "### Finding the correct awnser to the problem"
   ]
  },
  {
   "cell_type": "code",
   "execution_count": null,
   "id": "f110610e",
   "metadata": {},
   "outputs": [],
   "source": [
    "\n",
    "# full_name = pd.DataFrame()\n",
    "# single_letter = pd.DataFrame()\n",
    "# abbreviation = pd.DataFrame()\n",
    "# semantic = pd.DataFrame()\n",
    "# syntatic = pd.DataFrame()\n",
    "full_name = []\n",
    "single_letter = []\n",
    "abbreviation = []\n",
    "semantic = []\n",
    "syntatic = []\n",
    "abbreviation_regex = \"abbrev.html$\"\n",
    "full_name_regex = \"normal.html$\"\n",
    "single_letter_regex = \"single.html$\"\n",
    "semantic_regex = \"..\\.semantic..\"\n",
    "syntatic_regex = \"..\\.syntactic..\"\n",
    "\n",
    "\n",
    "sessions = db[\"sessions\"]\n",
    "for session in sessions.find({\"done\": True}):\n",
    "    for trial in session[\"trials\"]:\n",
    "        # print(trial)\n",
    "        # print((trial[\"file\"]))\n",
    "        if re.search(pattern=full_name_regex, string=trial[\"file\"]):\n",
    "            full_name.append(trial)\n",
    "        elif re.search(pattern=abbreviation_regex, string=trial[\"file\"]):\n",
    "            abbreviation.append(trial)\n",
    "        elif re.search(pattern=single_letter_regex, string=trial[\"file\"]):\n",
    "            single_letter.append(trial)\n",
    "        if re.search(pattern=semantic_regex, string=trial[\"file\"]):\n",
    "            semantic.append(trial)\n",
    "        elif re.search(pattern=syntatic_regex, string=trial[\"file\"]):\n",
    "            syntatic.append(trial)"
   ]
  },
  {
   "cell_type": "code",
   "execution_count": null,
   "id": "04930210",
   "metadata": {},
   "outputs": [],
   "source": [
    "def success_rate(bucket: list) -> [list, list]:\n",
    "    success = 0\n",
    "    fail = 0\n",
    "    for drop in bucket:\n",
    "        if drop[\"state\"] == \"success\":\n",
    "            success += 1\n",
    "        elif drop[\"state\"] == \"failure\":\n",
    "            fail += 1\n",
    "    return [[success, fail], [\"success\", \"failure\"]]"
   ]
  },
  {
   "cell_type": "code",
   "execution_count": null,
   "id": "dfc70829",
   "metadata": {},
   "outputs": [],
   "source": [
    "data, keys = success_rate(single_letter)\n",
    "\n",
    "# define Seaborn color palette to use\n",
    "palette_color = sns.color_palette('bright')\n",
    "\n",
    "# plotting data on chart\n",
    "plt.pie(data, labels=keys, colors=palette_color, autopct='%.0f%%')\n",
    "\n",
    "# displaying chart\n",
    "plt.show()"
   ]
  }
 ],
 "metadata": {
  "kernelspec": {
   "display_name": ".venv",
   "language": "python",
   "name": "python3"
  },
  "language_info": {
   "codemirror_mode": {
    "name": "ipython",
    "version": 3
   },
   "file_extension": ".py",
   "mimetype": "text/x-python",
   "name": "python",
   "nbconvert_exporter": "python",
   "pygments_lexer": "ipython3",
   "version": "3.13.2"
  }
 },
 "nbformat": 4,
 "nbformat_minor": 5
}
